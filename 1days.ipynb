{
 "cells": [
  {
   "cell_type": "code",
   "execution_count": null,
   "id": "99a3c383",
   "metadata": {},
   "outputs": [],
   "source": [
    "dict1 = {'하나': 1, '둘': 'two', '파이': 3.14}\n",
    "\n",
    "dict2 = dict({'하나': 1, '둘': 'two', '파이': 3.14})\n",
    "\n",
    "dict3 = dict([('하나', 1), ('둘', 'two'), ('파이', 3.14)])\n",
    "\n",
    "dict4 = dict(하나=1, 둘='two', 파이=3.14)  \n",
    "\n",
    " \n",
    "\n",
    "print(dict1)\n",
    "\n",
    "print(dict2)\n",
    "\n",
    "print(dict3)\n",
    "\n",
    "print(dict4)\n"
   ]
  },
  {
   "cell_type": "code",
   "execution_count": null,
   "id": "b455e02c",
   "metadata": {},
   "outputs": [],
   "source": [
    "def sum(a,b):\n",
    "    print(\"hhi\")\n",
    "    return a + b\n",
    "\n",
    "c = sum(1,2)\n",
    "print(c)\n",
    "print(sum(3,4))\n"
   ]
  },
  {
   "cell_type": "markdown",
   "id": "2e4703a1",
   "metadata": {},
   "source": [
    "<!-- fadsfa -->\n"
   ]
  },
  {
   "cell_type": "code",
   "execution_count": null,
   "id": "8a19cb3b",
   "metadata": {},
   "outputs": [],
   "source": [
    "#hei"
   ]
  },
  {
   "cell_type": "markdown",
   "id": "5d801d2e",
   "metadata": {},
   "source": [
    "#hi\n"
   ]
  },
  {
   "cell_type": "code",
   "execution_count": null,
   "id": "b68260db",
   "metadata": {},
   "outputs": [],
   "source": [
    "## ㅗㅑ\n"
   ]
  },
  {
   "cell_type": "markdown",
   "id": "1a5493dc",
   "metadata": {},
   "source": [
    "##hei\n"
   ]
  },
  {
   "cell_type": "code",
   "execution_count": null,
   "id": "4b528674",
   "metadata": {},
   "outputs": [],
   "source": [
    "<h1> hello</h1>"
   ]
  },
  {
   "cell_type": "code",
   "execution_count": null,
   "id": "f9b4e5a8",
   "metadata": {},
   "outputs": [],
   "source": [
    "import timeit\n",
    "\n",
    "def ss():\n",
    "    sum=0\n",
    "    for i in range(1, 11):\n",
    "        sum+= i\n",
    "result = timeit.timeit('ss()',\n",
    "                      setup = 'from __main__ import ss',\n",
    "                      number = 10000000)\n",
    "print('ss:',result, 'sec')"
   ]
  },
  {
   "cell_type": "code",
   "execution_count": null,
   "id": "eb9d0d27",
   "metadata": {},
   "outputs": [],
   "source": [
    "import timeit\n",
    "\n",
    "def ss():\n",
    "    sum=0\n",
    "    for i in range(1, 11):\n",
    "        sum+= i\n",
    "result = timeit.timeit('ss()',\n",
    "                      setup = 'from __main__ import ss',\n",
    "                      number = 10000000)\n",
    "print('ss:',result, 'sec')"
   ]
  },
  {
   "cell_type": "code",
   "execution_count": null,
   "id": "aa6db212",
   "metadata": {},
   "outputs": [],
   "source": [
    "import timeit\n",
    "\n",
    "def ss():\n",
    "    sum=0\n",
    "    for i in range(1, 11):\n",
    "        sum+= i\n",
    "result = timeit.timeit('ss()',\n",
    "                      setup = 'from __main__ import ss',\n",
    "                      number = 10000000)\n",
    "print('ss:',result, 'sec')"
   ]
  },
  {
   "cell_type": "code",
   "execution_count": null,
   "id": "3d39d8af",
   "metadata": {},
   "outputs": [],
   "source": [
    "import timeit\n",
    "\n",
    "def ss():\n",
    "    sum=0\n",
    "    for i in range(1, 11):\n",
    "        sum+= i\n",
    "result = timeit.timeit('ss()',\n",
    "                      setup = 'from __main__ import ss',\n",
    "                      number = 10000000)\n",
    "print('ss:',result, 'sec')"
   ]
  },
  {
   "cell_type": "code",
   "execution_count": null,
   "id": "7fad5c1d",
   "metadata": {},
   "outputs": [],
   "source": [
    "import timeit\n",
    "\n",
    "def ss():\n",
    "    sum=0\n",
    "    for i in range(1, 11):\n",
    "        sum+= i\n",
    "result = timeit.timeit('ss()',\n",
    "                      setup = 'from __main__ import ss',\n",
    "                      number = 1000000)\n",
    "print('ss:',result, 'sec')"
   ]
  },
  {
   "cell_type": "code",
   "execution_count": null,
   "id": "39cff5d4",
   "metadata": {},
   "outputs": [],
   "source": [
    " str = \"\"\" 첫째줄 둘째줄\n",
    "\"\"\" str.count('\\n')\n",
    "    print(str)"
   ]
  },
  {
   "cell_type": "code",
   "execution_count": null,
   "id": "685d605e",
   "metadata": {},
   "outputs": [],
   "source": [
    " str = \"\"\" \n",
    " 첫째줄 \n",
    " 둘째줄\n",
    "\"\"\" \n",
    "    str.count('\\n')\n",
    "    print(str)"
   ]
  },
  {
   "cell_type": "code",
   "execution_count": null,
   "id": "91e01fda",
   "metadata": {},
   "outputs": [],
   "source": [
    " str = \"\"\"  첫째줄  둘째줄 \"\"\" \n",
    "    str.count('\\n')\n",
    "    print(str)"
   ]
  },
  {
   "cell_type": "code",
   "execution_count": null,
   "id": "0a2d6a03",
   "metadata": {},
   "outputs": [],
   "source": [
    "str = \"hello\"\n",
    "str.count('\\n')\n",
    "print(str)"
   ]
  },
  {
   "cell_type": "code",
   "execution_count": null,
   "id": "dd56aab4",
   "metadata": {},
   "outputs": [],
   "source": [
    "str = \"hello\n",
    "my name\n",
    "is\"\n",
    "str.count('\\n')\n",
    "print(str)"
   ]
  },
  {
   "cell_type": "code",
   "execution_count": null,
   "id": "0e3d7842",
   "metadata": {},
   "outputs": [],
   "source": [
    "str = \"hello \\n my name \\n is\"\n",
    "str.count('\\n')\n",
    "print(str)"
   ]
  },
  {
   "cell_type": "code",
   "execution_count": null,
   "id": "d7405c1f",
   "metadata": {},
   "outputs": [],
   "source": [
    "str = \"hellopmynamepispjo\"\n",
    "str.count('p')\n",
    "print(str)"
   ]
  },
  {
   "cell_type": "code",
   "execution_count": null,
   "id": "feb5481d",
   "metadata": {},
   "outputs": [],
   "source": [
    "str = \"hellopmynamepispjo\"\n",
    "print(str.count('p'))\n",
    "print(str)"
   ]
  },
  {
   "cell_type": "code",
   "execution_count": null,
   "id": "28edd26b",
   "metadata": {},
   "outputs": [],
   "source": [
    "s_string = 'This is a ftring'\n",
    "print(s_string)\n",
    "l_string = list(s_string)f\n",
    "l_string[10] ='s'\n",
    "s_string=''.join(l_string)\n",
    "print(s_string)"
   ]
  },
  {
   "cell_type": "code",
   "execution_count": null,
   "id": "38f300aa",
   "metadata": {},
   "outputs": [],
   "source": [
    "for i in range(10,0,-1):\n",
    "    print(1)"
   ]
  },
  {
   "cell_type": "code",
   "execution_count": null,
   "id": "107308b8",
   "metadata": {},
   "outputs": [],
   "source": [
    "for i in range(0,10,+1):\n",
    "    print(i)"
   ]
  },
  {
   "cell_type": "code",
   "execution_count": null,
   "id": "66ae12b0",
   "metadata": {},
   "outputs": [],
   "source": [
    "for i in range(0,10):\n",
    "    print(i)"
   ]
  },
  {
   "cell_type": "code",
   "execution_count": null,
   "id": "692672ca",
   "metadata": {},
   "outputs": [],
   "source": [
    "for i in range(10):\n",
    "    print(i)"
   ]
  },
  {
   "cell_type": "code",
   "execution_count": null,
   "id": "eb5d6093",
   "metadata": {},
   "outputs": [],
   "source": [
    "for i in range(10,0):\n",
    "    print(i)"
   ]
  },
  {
   "cell_type": "code",
   "execution_count": null,
   "id": "8daae7ce",
   "metadata": {},
   "outputs": [],
   "source": [
    "x = ['Tick', 'Tock', 'Song']\n",
    "y = ['Ping', 'Pong']\n",
    "x.append(y)\n",
    "print('x:', x)\n",
    "\n",
    "x = ['Tick', 'Tock', 'Song']\n",
    "y = ['Ping', 'Pong']\n",
    "x.extend(y)\n",
    "print('x:', x)\n",
    "\n",
    "\n",
    "x = ['Tick', 'Tock', 'Song']\n",
    "y = [['Ping', 'Pong']]\n",
    "x.append(y)\n",
    "print('x:', x)\n",
    "\n",
    "x = ['Tick', 'Tock', 'Song']\n",
    "y = [['Ping', 'Pong']]\n",
    "x.extend(y)\n",
    "print('x:', x)\n",
    "\n",
    "\n",
    "x = ['Tick', 'Tock', 'Song']\n",
    "y = 'Ping'\n",
    "x.append(y)\n",
    "print('x:', x)\n",
    "\n",
    "x = ['Tick', 'Tock', 'Song']\n",
    "y = 'Ping'\n",
    "x.extend(y)\n",
    "print('x:', x)"
   ]
  },
  {
   "cell_type": "code",
   "execution_count": null,
   "id": "513541c2",
   "metadata": {},
   "outputs": [],
   "source": [
    "lst1 = ['a', 'b', 'c']\n",
    "lst2 = ['seoul', 'wasin', 'sigapol']\n",
    "lst3 = [20,30,50]\n",
    "for i, (a,b,c) in enumerate (zip(lst1,lst2,lst3)):\n",
    "    print('{0:n} : {1:s}, {2:s},{3:s}'.format(i,a,b,c))"
   ]
  },
  {
   "cell_type": "code",
   "execution_count": null,
   "id": "50bc41ea",
   "metadata": {},
   "outputs": [],
   "source": [
    "lst1 = ['a', 'b', 'c']\n",
    "lst2 = ['seoul', 'wasin', 'sigapol']\n",
    "lst3 = [20,30,50]\n",
    "for i, (a,b,c) in enumerate (zip(lst1,lst2,lst3)) :\n",
    "    print('{0:n} : {1:s}, {2:s}, {3:s}만명'.format(i,a,b,c))"
   ]
  },
  {
   "cell_type": "code",
   "execution_count": null,
   "id": "dccee59a",
   "metadata": {},
   "outputs": [],
   "source": [
    "lst1 = ['a', 'b', 'c']\n",
    "lst2 = ['seoul', 'wasin', 'sigapol']\n",
    "lst3 = [20,30,50]\n",
    "for i, (a,b,c) in enumerate (zip(lst1,lst2,lst3)):\n",
    "    print('{0:n} : {1:s}, {2:s},{3:n}'.format(i,a,b,c))"
   ]
  },
  {
   "cell_type": "code",
   "execution_count": null,
   "id": "80d48d51",
   "metadata": {},
   "outputs": [],
   "source": [
    "import pandas as pd\n",
    "s1 = ['a', 'b', 'c', 'd']\n",
    "s2 = ['1','2','3','4']\n",
    "df = pd.DataFrame({'menu' : s1, 'price' : s2})\n",
    "df"
   ]
  },
  {
   "cell_type": "code",
   "execution_count": null,
   "id": "defb1946",
   "metadata": {},
   "outputs": [],
   "source": [
    "import pandas as pd\n",
    "s1 = ['a', 'b', 'c', 'd']\n",
    "s2 = ['1','2','3','4']\n",
    "df = pd.DataFrame({'menu' : s1, 'price' : s2})\n",
    "print(df)"
   ]
  },
  {
   "cell_type": "code",
   "execution_count": null,
   "id": "2cb0b57a",
   "metadata": {},
   "outputs": [],
   "source": [
    "not True and False or not False\n"
   ]
  },
  {
   "cell_type": "code",
   "execution_count": null,
   "id": "24b7cae4",
   "metadata": {},
   "outputs": [],
   "source": [
    "not True and False or not false\n"
   ]
  },
  {
   "cell_type": "code",
   "execution_count": null,
   "id": "c65e5c65",
   "metadata": {},
   "outputs": [],
   "source": [
    "from collections import deque\n",
    "qs = deque([1,2,3])\n",
    "qs.pop()\n",
    "qs\n",
    "qs.append(3)\n",
    "qs\n",
    "qs.popleft()\n",
    "qs\n",
    "qs.appendleft(1)\n",
    "qs\n",
    "qs.reverse()\n",
    "qs\n"
   ]
  },
  {
   "cell_type": "code",
   "execution_count": null,
   "id": "b09b28b3",
   "metadata": {},
   "outputs": [],
   "source": [
    "org = '   hello.   '\n",
    "org.ljust(20)\n",
    "org.center(30)"
   ]
  },
  {
   "cell_type": "code",
   "execution_count": null,
   "id": "9759fe81",
   "metadata": {},
   "outputs": [],
   "source": [
    "org = '   hello.   '\n",
    "org.ljust(20)\n"
   ]
  },
  {
   "cell_type": "code",
   "execution_count": null,
   "id": "b44058ba",
   "metadata": {},
   "outputs": [],
   "source": [
    "org = '   hello.   '\n",
    "org.ljust(20)\n",
    "org.zfill(40)"
   ]
  },
  {
   "cell_type": "code",
   "execution_count": null,
   "id": "1086eaa7",
   "metadata": {},
   "outputs": [],
   "source": [
    "help\n",
    "\n"
   ]
  },
  {
   "cell_type": "code",
   "execution_count": null,
   "id": "787a4a3b",
   "metadata": {},
   "outputs": [],
   "source": [
    "def add(x,y):\n",
    "    '''help desk'''\n",
    "#     help desk\n",
    "v1 = x\n",
    "v2 = y\n",
    "return v1 * v2\n",
    "\n",
    "a=2\n",
    "b=3\n",
    "add(a,b)\n",
    "help(add)"
   ]
  },
  {
   "cell_type": "code",
   "execution_count": null,
   "id": "3ba63cab",
   "metadata": {},
   "outputs": [],
   "source": [
    "def add(x,y):\n",
    "    '''help desk'''\n",
    "#     help desk\n",
    "v1 = x\n",
    "v2 = y\n",
    "v3 = x * y\n",
    "return v3\n",
    "\n",
    "a=2\n",
    "b=3\n",
    "add(a,b)\n",
    "help(add)"
   ]
  },
  {
   "cell_type": "code",
   "execution_count": null,
   "id": "904e78b4",
   "metadata": {},
   "outputs": [],
   "source": [
    "def add(x,y):\n",
    "    '''help desk'''\n",
    "#     help desk2\n",
    "    v1 = x\n",
    "    v2 = y\n",
    "    v3 = x * y\n",
    "    return v3\n",
    "\n",
    "a=2\n",
    "b=3\n",
    "add(a,b)\n",
    "help(add)"
   ]
  },
  {
   "cell_type": "code",
   "execution_count": null,
   "id": "18840a49",
   "metadata": {},
   "outputs": [],
   "source": [
    "def add(x,y):\n",
    "    '''help desk'''\n",
    "#     help desk2\n",
    "    v1 = x\n",
    "    v2 = y\n",
    "    v3 = x * y\n",
    "    return v3\n",
    "\n",
    "a=2\n",
    "b=3\n",
    "add(a,b)\n",
    "help(add)\n"
   ]
  },
  {
   "cell_type": "code",
   "execution_count": null,
   "id": "653c59fc",
   "metadata": {},
   "outputs": [],
   "source": [
    "org ='ai 서비스 기획자 되스'\n",
    "org.find('스')\n",
    "org.count('스')\n",
    "org.find('가')"
   ]
  },
  {
   "cell_type": "code",
   "execution_count": null,
   "id": "b7f39b4f",
   "metadata": {},
   "outputs": [],
   "source": [
    "org ='ai 서비스 기획자 되스'\n",
    "org.find('스')\n",
    "org.count('스')\n"
   ]
  },
  {
   "cell_type": "code",
   "execution_count": null,
   "id": "5c9c818e",
   "metadata": {},
   "outputs": [],
   "source": [
    "org ='ai 서비스 기획자 되스'\n",
    "org.find('스')"
   ]
  },
  {
   "cell_type": "code",
   "execution_count": null,
   "id": "ce8c2508",
   "metadata": {},
   "outputs": [],
   "source": [
    "org ='ai 서비스 기획자 되스'\n",
    "org.index('가')"
   ]
  },
  {
   "cell_type": "code",
   "execution_count": null,
   "id": "182fddb1",
   "metadata": {},
   "outputs": [],
   "source": [
    "int a=4\n",
    "b=a\n",
    "c=4\n",
    "print(a is b is c)"
   ]
  },
  {
   "cell_type": "code",
   "execution_count": null,
   "id": "39f9eec2",
   "metadata": {},
   "outputs": [],
   "source": [
    "a=4\n",
    "b=a\n",
    "c=4\n",
    "print(a is b is c)"
   ]
  },
  {
   "cell_type": "code",
   "execution_count": null,
   "id": "f748f682",
   "metadata": {},
   "outputs": [],
   "source": [
    "print(b is c)"
   ]
  },
  {
   "cell_type": "code",
   "execution_count": null,
   "id": "e7752be2",
   "metadata": {},
   "outputs": [],
   "source": [
    "a is c"
   ]
  },
  {
   "cell_type": "code",
   "execution_count": null,
   "id": "72850d51",
   "metadata": {},
   "outputs": [],
   "source": [
    "b is c"
   ]
  },
  {
   "cell_type": "code",
   "execution_count": null,
   "id": "c393f36a",
   "metadata": {},
   "outputs": [],
   "source": [
    "a=4\n",
    "b=a\n",
    "c=4\n",
    "print(a is b is c)\n",
    "a is b\n",
    "b is c\n"
   ]
  },
  {
   "cell_type": "code",
   "execution_count": null,
   "id": "42bfe399",
   "metadata": {},
   "outputs": [],
   "source": [
    "a=4\n",
    "b=a\n",
    "c=4\n",
    "d=[1]\n",
    "e=d\n",
    "f=[1]\n",
    "print(a is b is c)\n",
    "d is e\n",
    "e is f\n",
    "d is f"
   ]
  },
  {
   "cell_type": "code",
   "execution_count": null,
   "id": "d27723c3",
   "metadata": {},
   "outputs": [],
   "source": [
    "a = 4\n",
    "b = '4'\n",
    "a is b"
   ]
  },
  {
   "cell_type": "code",
   "execution_count": null,
   "id": "465b05d5",
   "metadata": {},
   "outputs": [],
   "source": [
    "a = 4\n",
    "b = '4'\n",
    "(int)b\n",
    "a is b"
   ]
  },
  {
   "cell_type": "code",
   "execution_count": null,
   "id": "7431c5d8",
   "metadata": {},
   "outputs": [],
   "source": [
    "a = 4\n",
    "b = '4'\n",
    "b = (int)b\n",
    "a is b"
   ]
  },
  {
   "cell_type": "code",
   "execution_count": null,
   "id": "d05737ac",
   "metadata": {},
   "outputs": [],
   "source": [
    "a = 4\n",
    "b = '4'\n",
    "b = (int(float(b)))\n",
    "a is b"
   ]
  },
  {
   "cell_type": "code",
   "execution_count": null,
   "id": "89c0710a",
   "metadata": {},
   "outputs": [],
   "source": [
    "a=[1,2,3]\n",
    "b=a\n",
    "b[0]=4\n",
    "print(a)\n",
    "print(b)"
   ]
  },
  {
   "cell_type": "code",
   "execution_count": null,
   "id": "0b458530",
   "metadata": {},
   "outputs": [],
   "source": [
    "a=[1,2,3]\n",
    "b[0]=a[0]\n",
    "b[1]=a[1]\n",
    "b[2]=a[2]\n",
    "\n",
    "b[0]=4\n",
    "print(a)\n",
    "print(b)"
   ]
  },
  {
   "cell_type": "code",
   "execution_count": null,
   "id": "969bb361",
   "metadata": {},
   "outputs": [],
   "source": [
    "a is b\n"
   ]
  },
  {
   "cell_type": "code",
   "execution_count": null,
   "id": "6787a01f",
   "metadata": {},
   "outputs": [],
   "source": [
    "b[1] is a[1]"
   ]
  },
  {
   "cell_type": "code",
   "execution_count": null,
   "id": "2ab8f6df",
   "metadata": {},
   "outputs": [],
   "source": []
  },
  {
   "cell_type": "code",
   "execution_count": null,
   "id": "e6af2496",
   "metadata": {},
   "outputs": [],
   "source": [
    "b[1] is a[1]"
   ]
  },
  {
   "cell_type": "code",
   "execution_count": null,
   "id": "cf2941f2",
   "metadata": {},
   "outputs": [],
   "source": [
    "why\n"
   ]
  },
  {
   "cell_type": "code",
   "execution_count": 1,
   "id": "2fca422b",
   "metadata": {},
   "outputs": [
    {
     "ename": "NameError",
     "evalue": "name 'b' is not defined",
     "output_type": "error",
     "traceback": [
      "\u001b[0;31m---------------------------------------------------------------------------\u001b[0m",
      "\u001b[0;31mNameError\u001b[0m                                 Traceback (most recent call last)",
      "\u001b[0;32m/var/folders/38/tybfdrns7ldclvb3l7fmxw_w0000gn/T/ipykernel_31245/694378265.py\u001b[0m in \u001b[0;36m<module>\u001b[0;34m\u001b[0m\n\u001b[0;32m----> 1\u001b[0;31m \u001b[0mb\u001b[0m\u001b[0;34m[\u001b[0m\u001b[0;36m1\u001b[0m\u001b[0;34m]\u001b[0m \u001b[0;32mis\u001b[0m \u001b[0ma\u001b[0m\u001b[0;34m[\u001b[0m\u001b[0;36m1\u001b[0m\u001b[0;34m]\u001b[0m\u001b[0;34m\u001b[0m\u001b[0;34m\u001b[0m\u001b[0m\n\u001b[0m",
      "\u001b[0;31mNameError\u001b[0m: name 'b' is not defined"
     ]
    }
   ],
   "source": [
    "b[1] is a[1]"
   ]
  },
  {
   "cell_type": "code",
   "execution_count": 2,
   "id": "033773c6",
   "metadata": {},
   "outputs": [
    {
     "ename": "NameError",
     "evalue": "name 'b' is not defined",
     "output_type": "error",
     "traceback": [
      "\u001b[0;31m---------------------------------------------------------------------------\u001b[0m",
      "\u001b[0;31mNameError\u001b[0m                                 Traceback (most recent call last)",
      "\u001b[0;32m/var/folders/38/tybfdrns7ldclvb3l7fmxw_w0000gn/T/ipykernel_31245/2084526677.py\u001b[0m in \u001b[0;36m<module>\u001b[0;34m\u001b[0m\n\u001b[0;32m----> 1\u001b[0;31m \u001b[0mb\u001b[0m\u001b[0;34m[\u001b[0m\u001b[0;36m1\u001b[0m\u001b[0;34m]\u001b[0m\u001b[0;34m=\u001b[0m\u001b[0;36m2\u001b[0m\u001b[0;34m\u001b[0m\u001b[0;34m\u001b[0m\u001b[0m\n\u001b[0m",
      "\u001b[0;31mNameError\u001b[0m: name 'b' is not defined"
     ]
    }
   ],
   "source": [
    "b[1]=2"
   ]
  },
  {
   "cell_type": "code",
   "execution_count": 3,
   "id": "63f2a850",
   "metadata": {},
   "outputs": [
    {
     "ename": "NameError",
     "evalue": "name 'b' is not defined",
     "output_type": "error",
     "traceback": [
      "\u001b[0;31m---------------------------------------------------------------------------\u001b[0m",
      "\u001b[0;31mNameError\u001b[0m                                 Traceback (most recent call last)",
      "\u001b[0;32m/var/folders/38/tybfdrns7ldclvb3l7fmxw_w0000gn/T/ipykernel_31245/2816211240.py\u001b[0m in \u001b[0;36m<module>\u001b[0;34m\u001b[0m\n\u001b[0;32m----> 1\u001b[0;31m \u001b[0mb\u001b[0m\u001b[0;34m[\u001b[0m\u001b[0;36m0\u001b[0m\u001b[0;34m]\u001b[0m\u001b[0;34m=\u001b[0m\u001b[0;36m4\u001b[0m\u001b[0;34m\u001b[0m\u001b[0;34m\u001b[0m\u001b[0m\n\u001b[0m\u001b[1;32m      2\u001b[0m \u001b[0mb\u001b[0m\u001b[0;34m[\u001b[0m\u001b[0;36m1\u001b[0m\u001b[0;34m]\u001b[0m\u001b[0;34m=\u001b[0m\u001b[0;36m2\u001b[0m\u001b[0;34m\u001b[0m\u001b[0;34m\u001b[0m\u001b[0m\n",
      "\u001b[0;31mNameError\u001b[0m: name 'b' is not defined"
     ]
    }
   ],
   "source": [
    "b[0]=4\n",
    "b[1]=2"
   ]
  },
  {
   "cell_type": "code",
   "execution_count": 4,
   "id": "4b8e3115",
   "metadata": {},
   "outputs": [
    {
     "ename": "NameError",
     "evalue": "name 'a' is not defined",
     "output_type": "error",
     "traceback": [
      "\u001b[0;31m---------------------------------------------------------------------------\u001b[0m",
      "\u001b[0;31mNameError\u001b[0m                                 Traceback (most recent call last)",
      "\u001b[0;32m/var/folders/38/tybfdrns7ldclvb3l7fmxw_w0000gn/T/ipykernel_31245/3305279726.py\u001b[0m in \u001b[0;36m<module>\u001b[0;34m\u001b[0m\n\u001b[0;32m----> 1\u001b[0;31m \u001b[0ma\u001b[0m\u001b[0;34m[\u001b[0m\u001b[0;36m4\u001b[0m\u001b[0;34m]\u001b[0m\u001b[0;34m\u001b[0m\u001b[0;34m\u001b[0m\u001b[0m\n\u001b[0m\u001b[1;32m      2\u001b[0m \u001b[0ma\u001b[0m\u001b[0;34m[\u001b[0m\u001b[0;36m2\u001b[0m\u001b[0;34m]\u001b[0m\u001b[0;34m=\u001b[0m\u001b[0;36m5\u001b[0m\u001b[0;34m\u001b[0m\u001b[0;34m\u001b[0m\u001b[0m\n",
      "\u001b[0;31mNameError\u001b[0m: name 'a' is not defined"
     ]
    }
   ],
   "source": [
    "a[4]\n",
    "a[2]=5"
   ]
  },
  {
   "cell_type": "code",
   "execution_count": 5,
   "id": "388e86f8",
   "metadata": {},
   "outputs": [
    {
     "ename": "NameError",
     "evalue": "name 'a' is not defined",
     "output_type": "error",
     "traceback": [
      "\u001b[0;31m---------------------------------------------------------------------------\u001b[0m",
      "\u001b[0;31mNameError\u001b[0m                                 Traceback (most recent call last)",
      "\u001b[0;32m/var/folders/38/tybfdrns7ldclvb3l7fmxw_w0000gn/T/ipykernel_31245/2350110154.py\u001b[0m in \u001b[0;36m<module>\u001b[0;34m\u001b[0m\n\u001b[0;32m----> 1\u001b[0;31m \u001b[0ma\u001b[0m\u001b[0;34m=\u001b[0m\u001b[0ma\u001b[0m\u001b[0;34m[\u001b[0m\u001b[0;36m4\u001b[0m\u001b[0;34m]\u001b[0m\u001b[0;34m\u001b[0m\u001b[0;34m\u001b[0m\u001b[0m\n\u001b[0m",
      "\u001b[0;31mNameError\u001b[0m: name 'a' is not defined"
     ]
    }
   ],
   "source": [
    "a=a[4]\n"
   ]
  },
  {
   "cell_type": "code",
   "execution_count": 6,
   "id": "fb71ec33",
   "metadata": {},
   "outputs": [],
   "source": [
    "a=1,2,3"
   ]
  },
  {
   "cell_type": "code",
   "execution_count": 7,
   "id": "fa3cba1d",
   "metadata": {},
   "outputs": [
    {
     "name": "stdout",
     "output_type": "stream",
     "text": [
      "(1, 2, 3)\n"
     ]
    }
   ],
   "source": [
    "print(a)"
   ]
  },
  {
   "cell_type": "code",
   "execution_count": 8,
   "id": "c110fa63",
   "metadata": {},
   "outputs": [],
   "source": [
    "b={1,2,3}"
   ]
  },
  {
   "cell_type": "code",
   "execution_count": 9,
   "id": "08f8fb5c",
   "metadata": {},
   "outputs": [
    {
     "name": "stdout",
     "output_type": "stream",
     "text": [
      "{1, 2, 3}\n"
     ]
    }
   ],
   "source": [
    "print(b)"
   ]
  },
  {
   "cell_type": "code",
   "execution_count": 10,
   "id": "7702c3e5",
   "metadata": {},
   "outputs": [],
   "source": [
    "c={'1','2','3'}"
   ]
  },
  {
   "cell_type": "code",
   "execution_count": 11,
   "id": "6b5d9936",
   "metadata": {},
   "outputs": [
    {
     "name": "stdout",
     "output_type": "stream",
     "text": [
      "{'1', '2', '3'}\n"
     ]
    }
   ],
   "source": [
    "print(c)"
   ]
  },
  {
   "cell_type": "code",
   "execution_count": 12,
   "id": "c311e335",
   "metadata": {},
   "outputs": [
    {
     "ename": "NameError",
     "evalue": "name 'join' is not defined",
     "output_type": "error",
     "traceback": [
      "\u001b[0;31m---------------------------------------------------------------------------\u001b[0m",
      "\u001b[0;31mNameError\u001b[0m                                 Traceback (most recent call last)",
      "\u001b[0;32m/var/folders/38/tybfdrns7ldclvb3l7fmxw_w0000gn/T/ipykernel_31245/1151901826.py\u001b[0m in \u001b[0;36m<module>\u001b[0;34m\u001b[0m\n\u001b[0;32m----> 1\u001b[0;31m \u001b[0mjoin\u001b[0m\u001b[0;34m.\u001b[0m\u001b[0mprint\u001b[0m\u001b[0;34m(\u001b[0m\u001b[0mc\u001b[0m\u001b[0;34m)\u001b[0m\u001b[0;34m\u001b[0m\u001b[0;34m\u001b[0m\u001b[0m\n\u001b[0m",
      "\u001b[0;31mNameError\u001b[0m: name 'join' is not defined"
     ]
    }
   ],
   "source": [
    "join.print(c)"
   ]
  },
  {
   "cell_type": "code",
   "execution_count": 13,
   "id": "285e28f0",
   "metadata": {},
   "outputs": [
    {
     "ename": "AttributeError",
     "evalue": "'builtin_function_or_method' object has no attribute 'print'",
     "output_type": "error",
     "traceback": [
      "\u001b[0;31m---------------------------------------------------------------------------\u001b[0m",
      "\u001b[0;31mAttributeError\u001b[0m                            Traceback (most recent call last)",
      "\u001b[0;32m/var/folders/38/tybfdrns7ldclvb3l7fmxw_w0000gn/T/ipykernel_31245/2841579177.py\u001b[0m in \u001b[0;36m<module>\u001b[0;34m\u001b[0m\n\u001b[0;32m----> 1\u001b[0;31m \u001b[0;34m\"\"\u001b[0m\u001b[0;34m.\u001b[0m\u001b[0mjoin\u001b[0m\u001b[0;34m.\u001b[0m\u001b[0mprint\u001b[0m\u001b[0;34m(\u001b[0m\u001b[0mc\u001b[0m\u001b[0;34m)\u001b[0m\u001b[0;34m\u001b[0m\u001b[0;34m\u001b[0m\u001b[0m\n\u001b[0m",
      "\u001b[0;31mAttributeError\u001b[0m: 'builtin_function_or_method' object has no attribute 'print'"
     ]
    }
   ],
   "source": [
    "\"\".join.print(c)"
   ]
  },
  {
   "cell_type": "code",
   "execution_count": 14,
   "id": "f17cab62",
   "metadata": {},
   "outputs": [
    {
     "data": {
      "text/plain": [
       "'123'"
      ]
     },
     "execution_count": 14,
     "metadata": {},
     "output_type": "execute_result"
    }
   ],
   "source": [
    "\"\".join(c)"
   ]
  },
  {
   "cell_type": "code",
   "execution_count": 15,
   "id": "66f253ba",
   "metadata": {},
   "outputs": [
    {
     "ename": "TypeError",
     "evalue": "sequence item 0: expected str instance, int found",
     "output_type": "error",
     "traceback": [
      "\u001b[0;31m---------------------------------------------------------------------------\u001b[0m",
      "\u001b[0;31mTypeError\u001b[0m                                 Traceback (most recent call last)",
      "\u001b[0;32m/var/folders/38/tybfdrns7ldclvb3l7fmxw_w0000gn/T/ipykernel_31245/73719248.py\u001b[0m in \u001b[0;36m<module>\u001b[0;34m\u001b[0m\n\u001b[0;32m----> 1\u001b[0;31m \u001b[0;34m\"\"\u001b[0m\u001b[0;34m.\u001b[0m\u001b[0mjoin\u001b[0m\u001b[0;34m(\u001b[0m\u001b[0mb\u001b[0m\u001b[0;34m)\u001b[0m\u001b[0;34m\u001b[0m\u001b[0;34m\u001b[0m\u001b[0m\n\u001b[0m",
      "\u001b[0;31mTypeError\u001b[0m: sequence item 0: expected str instance, int found"
     ]
    }
   ],
   "source": [
    "\"\".join(b)"
   ]
  },
  {
   "cell_type": "code",
   "execution_count": 16,
   "id": "a7fee3fa",
   "metadata": {},
   "outputs": [
    {
     "ename": "TypeError",
     "evalue": "sequence item 0: expected str instance, int found",
     "output_type": "error",
     "traceback": [
      "\u001b[0;31m---------------------------------------------------------------------------\u001b[0m",
      "\u001b[0;31mTypeError\u001b[0m                                 Traceback (most recent call last)",
      "\u001b[0;32m/var/folders/38/tybfdrns7ldclvb3l7fmxw_w0000gn/T/ipykernel_31245/2367810019.py\u001b[0m in \u001b[0;36m<module>\u001b[0;34m\u001b[0m\n\u001b[0;32m----> 1\u001b[0;31m \u001b[0;34m\"\"\u001b[0m\u001b[0;34m.\u001b[0m\u001b[0mjoin\u001b[0m\u001b[0;34m(\u001b[0m\u001b[0ma\u001b[0m\u001b[0;34m)\u001b[0m\u001b[0;34m\u001b[0m\u001b[0;34m\u001b[0m\u001b[0m\n\u001b[0m",
      "\u001b[0;31mTypeError\u001b[0m: sequence item 0: expected str instance, int found"
     ]
    }
   ],
   "source": [
    "\"\".join(a)"
   ]
  },
  {
   "cell_type": "code",
   "execution_count": 17,
   "id": "39d64c55",
   "metadata": {},
   "outputs": [
    {
     "data": {
      "text/plain": [
       "'123'"
      ]
     },
     "execution_count": 17,
     "metadata": {},
     "output_type": "execute_result"
    }
   ],
   "source": [
    "\"\".join(c)"
   ]
  },
  {
   "cell_type": "code",
   "execution_count": 18,
   "id": "e7ecd0d0",
   "metadata": {},
   "outputs": [
    {
     "ename": "SyntaxError",
     "evalue": "unexpected character after line continuation character (1802715509.py, line 1)",
     "output_type": "error",
     "traceback": [
      "\u001b[0;36m  File \u001b[0;32m\"/var/folders/38/tybfdrns7ldclvb3l7fmxw_w0000gn/T/ipykernel_31245/1802715509.py\"\u001b[0;36m, line \u001b[0;32m1\u001b[0m\n\u001b[0;31m    print(a \\n b \\n c)\u001b[0m\n\u001b[0m             ^\u001b[0m\n\u001b[0;31mSyntaxError\u001b[0m\u001b[0;31m:\u001b[0m unexpected character after line continuation character\n"
     ]
    }
   ],
   "source": [
    "print(a \\n b \\n c)"
   ]
  },
  {
   "cell_type": "code",
   "execution_count": 19,
   "id": "76495fbd",
   "metadata": {},
   "outputs": [
    {
     "ename": "SyntaxError",
     "evalue": "unexpected character after line continuation character (4233819266.py, line 1)",
     "output_type": "error",
     "traceback": [
      "\u001b[0;36m  File \u001b[0;32m\"/var/folders/38/tybfdrns7ldclvb3l7fmxw_w0000gn/T/ipykernel_31245/4233819266.py\"\u001b[0;36m, line \u001b[0;32m1\u001b[0m\n\u001b[0;31m    print(a +\\n+ b +\\n+ c)\u001b[0m\n\u001b[0m              ^\u001b[0m\n\u001b[0;31mSyntaxError\u001b[0m\u001b[0;31m:\u001b[0m unexpected character after line continuation character\n"
     ]
    }
   ],
   "source": [
    "print(a +\\n+ b +\\n+ c)"
   ]
  },
  {
   "cell_type": "code",
   "execution_count": 20,
   "id": "4692c9e1",
   "metadata": {},
   "outputs": [
    {
     "ename": "TypeError",
     "evalue": "can only concatenate tuple (not \"set\") to tuple",
     "output_type": "error",
     "traceback": [
      "\u001b[0;31m---------------------------------------------------------------------------\u001b[0m",
      "\u001b[0;31mTypeError\u001b[0m                                 Traceback (most recent call last)",
      "\u001b[0;32m/var/folders/38/tybfdrns7ldclvb3l7fmxw_w0000gn/T/ipykernel_31245/1083478837.py\u001b[0m in \u001b[0;36m<module>\u001b[0;34m\u001b[0m\n\u001b[0;32m----> 1\u001b[0;31m \u001b[0mprint\u001b[0m\u001b[0;34m(\u001b[0m\u001b[0ma\u001b[0m\u001b[0;34m+\u001b[0m\u001b[0mb\u001b[0m\u001b[0;34m)\u001b[0m\u001b[0;34m\u001b[0m\u001b[0;34m\u001b[0m\u001b[0m\n\u001b[0m",
      "\u001b[0;31mTypeError\u001b[0m: can only concatenate tuple (not \"set\") to tuple"
     ]
    }
   ],
   "source": [
    "print(a+b)"
   ]
  },
  {
   "cell_type": "code",
   "execution_count": 21,
   "id": "623b9c01",
   "metadata": {},
   "outputs": [
    {
     "ename": "SyntaxError",
     "evalue": "unexpected character after line continuation character (2101652514.py, line 1)",
     "output_type": "error",
     "traceback": [
      "\u001b[0;36m  File \u001b[0;32m\"/var/folders/38/tybfdrns7ldclvb3l7fmxw_w0000gn/T/ipykernel_31245/2101652514.py\"\u001b[0;36m, line \u001b[0;32m1\u001b[0m\n\u001b[0;31m    print(a \\n a)\u001b[0m\n\u001b[0m             ^\u001b[0m\n\u001b[0;31mSyntaxError\u001b[0m\u001b[0;31m:\u001b[0m unexpected character after line continuation character\n"
     ]
    }
   ],
   "source": [
    "print(a \\n a)"
   ]
  },
  {
   "cell_type": "code",
   "execution_count": 22,
   "id": "e3e622cc",
   "metadata": {},
   "outputs": [
    {
     "ename": "SyntaxError",
     "evalue": "invalid syntax (1651280688.py, line 1)",
     "output_type": "error",
     "traceback": [
      "\u001b[0;36m  File \u001b[0;32m\"/var/folders/38/tybfdrns7ldclvb3l7fmxw_w0000gn/T/ipykernel_31245/1651280688.py\"\u001b[0;36m, line \u001b[0;32m1\u001b[0m\n\u001b[0;31m    print(a b c)\u001b[0m\n\u001b[0m            ^\u001b[0m\n\u001b[0;31mSyntaxError\u001b[0m\u001b[0;31m:\u001b[0m invalid syntax\n"
     ]
    }
   ],
   "source": [
    "print(a b c)"
   ]
  },
  {
   "cell_type": "code",
   "execution_count": 23,
   "id": "c812589b",
   "metadata": {},
   "outputs": [
    {
     "name": "stdout",
     "output_type": "stream",
     "text": [
      "(1, 2, 3)\n"
     ]
    }
   ],
   "source": [
    "print(a)"
   ]
  },
  {
   "cell_type": "code",
   "execution_count": 24,
   "id": "761735b1",
   "metadata": {},
   "outputs": [
    {
     "name": "stdout",
     "output_type": "stream",
     "text": [
      "{1, 2, 3}\n"
     ]
    }
   ],
   "source": [
    "print(b)"
   ]
  },
  {
   "cell_type": "code",
   "execution_count": 25,
   "id": "31c4e9c1",
   "metadata": {},
   "outputs": [],
   "source": [
    "d = {4, 5}"
   ]
  },
  {
   "cell_type": "code",
   "execution_count": 26,
   "id": "699d6960",
   "metadata": {},
   "outputs": [
    {
     "ename": "TypeError",
     "evalue": "unsupported operand type(s) for +: 'set' and 'set'",
     "output_type": "error",
     "traceback": [
      "\u001b[0;31m---------------------------------------------------------------------------\u001b[0m",
      "\u001b[0;31mTypeError\u001b[0m                                 Traceback (most recent call last)",
      "\u001b[0;32m/var/folders/38/tybfdrns7ldclvb3l7fmxw_w0000gn/T/ipykernel_31245/2732409957.py\u001b[0m in \u001b[0;36m<module>\u001b[0;34m\u001b[0m\n\u001b[0;32m----> 1\u001b[0;31m \u001b[0mprint\u001b[0m \u001b[0;34m(\u001b[0m\u001b[0mb\u001b[0m \u001b[0;34m+\u001b[0m \u001b[0md\u001b[0m\u001b[0;34m)\u001b[0m\u001b[0;34m\u001b[0m\u001b[0;34m\u001b[0m\u001b[0m\n\u001b[0m",
      "\u001b[0;31mTypeError\u001b[0m: unsupported operand type(s) for +: 'set' and 'set'"
     ]
    }
   ],
   "source": [
    "print (b + d)"
   ]
  },
  {
   "cell_type": "code",
   "execution_count": 28,
   "id": "e641d50c",
   "metadata": {},
   "outputs": [],
   "source": [
    "#주석"
   ]
  },
  {
   "cell_type": "markdown",
   "id": "74adbb26",
   "metadata": {},
   "source": [
    "#주석\n"
   ]
  },
  {
   "cell_type": "code",
   "execution_count": 36,
   "id": "75ff7d37",
   "metadata": {},
   "outputs": [],
   "source": [
    "a=1\n"
   ]
  },
  {
   "cell_type": "code",
   "execution_count": 38,
   "id": "1bf54fba",
   "metadata": {},
   "outputs": [],
   "source": [
    "#wnfa"
   ]
  },
  {
   "cell_type": "raw",
   "id": "bed0931d",
   "metadata": {},
   "source": [
    "\n",
    "\n",
    "#fkas"
   ]
  },
  {
   "cell_type": "markdown",
   "id": "8cab8828",
   "metadata": {},
   "source": [
    "# "
   ]
  }
 ],
 "metadata": {
  "kernelspec": {
   "display_name": "Python 3 (ipykernel)",
   "language": "python",
   "name": "python3"
  },
  "language_info": {
   "codemirror_mode": {
    "name": "ipython",
    "version": 3
   },
   "file_extension": ".py",
   "mimetype": "text/x-python",
   "name": "python",
   "nbconvert_exporter": "python",
   "pygments_lexer": "ipython3",
   "version": "3.9.13"
  }
 },
 "nbformat": 4,
 "nbformat_minor": 5
}
